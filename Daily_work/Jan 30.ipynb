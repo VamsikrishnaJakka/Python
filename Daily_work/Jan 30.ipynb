{
 "cells": [
  {
   "cell_type": "code",
   "execution_count": 1,
   "id": "c3a49957-04d6-418e-8e0d-99e9e0f3e4c7",
   "metadata": {},
   "outputs": [
    {
     "data": {
      "text/plain": [
       "10"
      ]
     },
     "execution_count": 1,
     "metadata": {},
     "output_type": "execute_result"
    }
   ],
   "source": [
    "a = 10\n",
    "a\n"
   ]
  },
  {
   "cell_type": "markdown",
   "id": "c7b9b222-80ef-4591-9634-9dc9dadd060f",
   "metadata": {},
   "source": [
    "# Markdown is for heading with '#' comment\n",
    "## this is with '##' \n",
    "\n",
    "### this is with '###'"
   ]
  },
  {
   "cell_type": "code",
   "execution_count": 2,
   "id": "86de8c4a-e88b-4539-b904-f28348d2b636",
   "metadata": {},
   "outputs": [
    {
     "data": {
      "text/plain": [
       "2"
      ]
     },
     "execution_count": 2,
     "metadata": {},
     "output_type": "execute_result"
    }
   ],
   "source": [
    "1+1"
   ]
  },
  {
   "cell_type": "code",
   "execution_count": 5,
   "id": "645c3c74-48c3-4eb5-984b-6e27a8d89542",
   "metadata": {},
   "outputs": [
    {
     "data": {
      "text/plain": [
       "10"
      ]
     },
     "execution_count": 5,
     "metadata": {},
     "output_type": "execute_result"
    }
   ],
   "source": [
    "\"\"\"\n",
    "this is \n",
    "a multi line \n",
    "code\n",
    "\"\"\"\n",
    "a"
   ]
  },
  {
   "cell_type": "raw",
   "id": "1214a43c-1263-48dd-82bf-0b01a20e5e12",
   "metadata": {},
   "source": [
    "What is the use of raw?"
   ]
  },
  {
   "cell_type": "raw",
   "id": "f0ddabff-3cd1-46af-ac7f-b4996ebb8f22",
   "metadata": {},
   "source": [
    "Press esc and then continuosly a to create more cells "
   ]
  },
  {
   "cell_type": "code",
   "execution_count": 6,
   "id": "a4017675-7393-4b17-9c48-443e47aeea68",
   "metadata": {},
   "outputs": [
    {
     "data": {
      "text/plain": [
       "4"
      ]
     },
     "execution_count": 6,
     "metadata": {},
     "output_type": "execute_result"
    }
   ],
   "source": [
    "1+3"
   ]
  },
  {
   "cell_type": "code",
   "execution_count": 7,
   "id": "d758321a-7053-4d37-a991-1a81def7f708",
   "metadata": {},
   "outputs": [
    {
     "name": "stdout",
     "output_type": "stream",
     "text": [
      "4\n"
     ]
    }
   ],
   "source": [
    "print(1+3)"
   ]
  },
  {
   "cell_type": "code",
   "execution_count": 8,
   "id": "8498b9db-fa96-4cdf-9b7e-696ace02bdb2",
   "metadata": {},
   "outputs": [
    {
     "name": "stdout",
     "output_type": "stream",
     "text": [
      "5\n"
     ]
    }
   ],
   "source": [
    "a = 5\n",
    "print(a)"
   ]
  },
  {
   "cell_type": "code",
   "execution_count": 9,
   "id": "2b005230-59a1-4fe8-8b5e-7ef0156a87c6",
   "metadata": {},
   "outputs": [
    {
     "name": "stdout",
     "output_type": "stream",
     "text": [
      "hello world\n"
     ]
    }
   ],
   "source": [
    "print('hello world')"
   ]
  },
  {
   "cell_type": "code",
   "execution_count": 10,
   "id": "0d091fb9-7c17-4919-a8ab-19e5fe5d58df",
   "metadata": {},
   "outputs": [
    {
     "ename": "SyntaxError",
     "evalue": "unterminated string literal (detected at line 1) (2895315399.py, line 1)",
     "output_type": "error",
     "traceback": [
      "\u001b[0;36m  Cell \u001b[0;32mIn [10], line 1\u001b[0;36m\u001b[0m\n\u001b[0;31m    print(\"i work in coforge\u001b[0m\n\u001b[0m          ^\u001b[0m\n\u001b[0;31mSyntaxError\u001b[0m\u001b[0;31m:\u001b[0m unterminated string literal (detected at line 1)\n"
     ]
    }
   ],
   "source": [
    "print(\"i work in coforge\n",
    "      and learning big data\")"
   ]
  },
  {
   "cell_type": "code",
   "execution_count": 12,
   "id": "f15a85fc-fd8e-4f96-a7f8-f42b8f496457",
   "metadata": {},
   "outputs": [
    {
     "name": "stdout",
     "output_type": "stream",
     "text": [
      "i work in coforge \n",
      " and learning big data\n"
     ]
    }
   ],
   "source": [
    "print(\"i work in coforge \\n and learning big data\")"
   ]
  },
  {
   "cell_type": "code",
   "execution_count": 13,
   "id": "6659d46a-c264-4d96-af1b-7dee20917973",
   "metadata": {},
   "outputs": [],
   "source": [
    "# Variable assignments "
   ]
  },
  {
   "cell_type": "code",
   "execution_count": 14,
   "id": "0ab4aa18-406d-4272-bbb6-77c3e64da5e8",
   "metadata": {},
   "outputs": [],
   "source": [
    "name = 'vamsi'\n",
    "company = 'coforge'"
   ]
  },
  {
   "cell_type": "code",
   "execution_count": 15,
   "id": "06916b42-ea2b-4489-af94-fa505611e1a1",
   "metadata": {},
   "outputs": [
    {
     "data": {
      "text/plain": [
       "'coforge'"
      ]
     },
     "execution_count": 15,
     "metadata": {},
     "output_type": "execute_result"
    }
   ],
   "source": [
    "company"
   ]
  },
  {
   "cell_type": "code",
   "execution_count": 16,
   "id": "85e508a9-097d-4fe2-93b2-c4d397238623",
   "metadata": {},
   "outputs": [],
   "source": [
    "name = 'krishna'"
   ]
  },
  {
   "cell_type": "code",
   "execution_count": 17,
   "id": "a7f85687-b89f-4b2d-912a-00f74c5865d5",
   "metadata": {},
   "outputs": [
    {
     "data": {
      "text/plain": [
       "'krishna'"
      ]
     },
     "execution_count": 17,
     "metadata": {},
     "output_type": "execute_result"
    }
   ],
   "source": [
    "name"
   ]
  },
  {
   "cell_type": "code",
   "execution_count": 18,
   "id": "74325f7d-8b17-4e6f-808f-801943e0d94c",
   "metadata": {},
   "outputs": [
    {
     "data": {
      "text/plain": [
       "str"
      ]
     },
     "execution_count": 18,
     "metadata": {},
     "output_type": "execute_result"
    }
   ],
   "source": [
    "type('')"
   ]
  },
  {
   "cell_type": "code",
   "execution_count": 19,
   "id": "564fa2b4-64a0-40d5-ae4e-7b0f765ad88b",
   "metadata": {},
   "outputs": [
    {
     "data": {
      "text/plain": [
       "str"
      ]
     },
     "execution_count": 19,
     "metadata": {},
     "output_type": "execute_result"
    }
   ],
   "source": [
    "type(name)"
   ]
  },
  {
   "cell_type": "code",
   "execution_count": 22,
   "id": "89740f6b-6af5-4aa2-9be6-6948ed774249",
   "metadata": {},
   "outputs": [
    {
     "data": {
      "text/plain": [
       "int"
      ]
     },
     "execution_count": 22,
     "metadata": {},
     "output_type": "execute_result"
    }
   ],
   "source": [
    "type(10)"
   ]
  },
  {
   "cell_type": "code",
   "execution_count": 24,
   "id": "6f96f0eb-713e-4e1a-b544-2c98a4423492",
   "metadata": {},
   "outputs": [
    {
     "data": {
      "text/plain": [
       "float"
      ]
     },
     "execution_count": 24,
     "metadata": {},
     "output_type": "execute_result"
    }
   ],
   "source": [
    "type(2.5)"
   ]
  },
  {
   "cell_type": "code",
   "execution_count": 25,
   "id": "47e5e4c0-1463-4e28-a06a-f5b6340a6ea1",
   "metadata": {},
   "outputs": [
    {
     "data": {
      "text/plain": [
       "complex"
      ]
     },
     "execution_count": 25,
     "metadata": {},
     "output_type": "execute_result"
    }
   ],
   "source": [
    "type(1+2j)"
   ]
  },
  {
   "cell_type": "raw",
   "id": "d1b4ed79-5fad-4f27-bf51-3058760d8997",
   "metadata": {},
   "source": [
    "#bad way of writing a varibale\n",
    "\n",
    "1a = ''\n",
    "3answer\n",
    "using reserved keywords "
   ]
  },
  {
   "cell_type": "raw",
   "id": "08b6cd4a-a250-4ab4-b88c-1aa285a28582",
   "metadata": {},
   "source": [
    "Variables are case sensitive"
   ]
  },
  {
   "cell_type": "code",
   "execution_count": 27,
   "id": "e288393c-e3b2-4aad-803f-8abf36030fab",
   "metadata": {},
   "outputs": [
    {
     "name": "stdout",
     "output_type": "stream",
     "text": [
      "coforge\n",
      "jk\n"
     ]
    }
   ],
   "source": [
    "comapny = 'vk'\n",
    "Company = 'jk'\n",
    "\n",
    "print(company)\n",
    "print(Company)"
   ]
  },
  {
   "cell_type": "code",
   "execution_count": 28,
   "id": "a724d328-3d49-4539-ab9f-f8b9ab630043",
   "metadata": {},
   "outputs": [
    {
     "data": {
      "text/plain": [
       "True"
      ]
     },
     "execution_count": 28,
     "metadata": {},
     "output_type": "execute_result"
    }
   ],
   "source": [
    "True"
   ]
  },
  {
   "cell_type": "code",
   "execution_count": 29,
   "id": "eb7619ab-4b15-4954-b4b9-621f96e473d7",
   "metadata": {},
   "outputs": [
    {
     "data": {
      "text/plain": [
       "False"
      ]
     },
     "execution_count": 29,
     "metadata": {},
     "output_type": "execute_result"
    }
   ],
   "source": [
    "False"
   ]
  },
  {
   "cell_type": "code",
   "execution_count": 30,
   "id": "37879c2e-d7d3-4167-b9d4-60914ca949e7",
   "metadata": {},
   "outputs": [
    {
     "data": {
      "text/plain": [
       "True"
      ]
     },
     "execution_count": 30,
     "metadata": {},
     "output_type": "execute_result"
    }
   ],
   "source": [
    "True or False"
   ]
  },
  {
   "cell_type": "code",
   "execution_count": 31,
   "id": "ff32d1d8-5395-422a-a972-ac8724c31604",
   "metadata": {},
   "outputs": [
    {
     "data": {
      "text/plain": [
       "False"
      ]
     },
     "execution_count": 31,
     "metadata": {},
     "output_type": "execute_result"
    }
   ],
   "source": [
    "True and False"
   ]
  },
  {
   "cell_type": "code",
   "execution_count": 32,
   "id": "354d09b5-0f08-425a-a40f-17949aa501ee",
   "metadata": {},
   "outputs": [
    {
     "data": {
      "text/plain": [
       "False"
      ]
     },
     "execution_count": 32,
     "metadata": {},
     "output_type": "execute_result"
    }
   ],
   "source": [
    "not True"
   ]
  },
  {
   "cell_type": "code",
   "execution_count": 33,
   "id": "d4862773-441f-4aa5-a6b1-db8793e8874c",
   "metadata": {},
   "outputs": [
    {
     "data": {
      "text/plain": [
       "bool"
      ]
     },
     "execution_count": 33,
     "metadata": {},
     "output_type": "execute_result"
    }
   ],
   "source": [
    "type(True)"
   ]
  },
  {
   "cell_type": "code",
   "execution_count": 34,
   "id": "492e104a-6b52-4801-8320-68d5acf6bb75",
   "metadata": {},
   "outputs": [
    {
     "data": {
      "text/plain": [
       "False"
      ]
     },
     "execution_count": 34,
     "metadata": {},
     "output_type": "execute_result"
    }
   ],
   "source": [
    "bool(0)"
   ]
  },
  {
   "cell_type": "code",
   "execution_count": 35,
   "id": "ceda3e56-df30-4b99-a4c9-1e2c28123d1e",
   "metadata": {},
   "outputs": [
    {
     "data": {
      "text/plain": [
       "True"
      ]
     },
     "execution_count": 35,
     "metadata": {},
     "output_type": "execute_result"
    }
   ],
   "source": [
    "bool(1)"
   ]
  },
  {
   "cell_type": "code",
   "execution_count": 36,
   "id": "ed2c4096-21e4-4bb5-bffc-3b9e0a9aa54f",
   "metadata": {},
   "outputs": [
    {
     "name": "stdout",
     "output_type": "stream",
     "text": [
      "This is true\n"
     ]
    }
   ],
   "source": [
    "a = 1\n",
    "\n",
    "if bool(a)== True:\n",
    "    print('This is true')"
   ]
  },
  {
   "cell_type": "code",
   "execution_count": 37,
   "id": "a1e4ba4b-82c0-4568-8ac5-33b293af04e5",
   "metadata": {},
   "outputs": [
    {
     "data": {
      "text/plain": [
       "'1'"
      ]
     },
     "execution_count": 37,
     "metadata": {},
     "output_type": "execute_result"
    }
   ],
   "source": [
    "str(1)"
   ]
  },
  {
   "cell_type": "code",
   "execution_count": 38,
   "id": "c5c80645-26e9-4ea7-b6b0-c38b8806e4a3",
   "metadata": {},
   "outputs": [
    {
     "data": {
      "text/plain": [
       "23"
      ]
     },
     "execution_count": 38,
     "metadata": {},
     "output_type": "execute_result"
    }
   ],
   "source": [
    "int('23')"
   ]
  },
  {
   "cell_type": "code",
   "execution_count": 39,
   "id": "0780188b-19dd-4fae-a9b3-52585216f9f4",
   "metadata": {},
   "outputs": [
    {
     "data": {
      "text/plain": [
       "int"
      ]
     },
     "execution_count": 39,
     "metadata": {},
     "output_type": "execute_result"
    }
   ],
   "source": [
    "type(int('23'))"
   ]
  },
  {
   "cell_type": "code",
   "execution_count": 40,
   "id": "02b5c588-ad0c-482f-8cd3-9129864936c3",
   "metadata": {},
   "outputs": [
    {
     "data": {
      "text/plain": [
       "True"
      ]
     },
     "execution_count": 40,
     "metadata": {},
     "output_type": "execute_result"
    }
   ],
   "source": [
    "bool(1)"
   ]
  },
  {
   "cell_type": "markdown",
   "id": "cbfc6e6d-5c34-4fff-a22d-020b10bc16f4",
   "metadata": {},
   "source": [
    "Dynamic Typing"
   ]
  },
  {
   "cell_type": "raw",
   "id": "bfd3231c-07a5-4619-82e8-16a18db1a136",
   "metadata": {},
   "source": [
    "The compiler during run timw qill understand that a is an interger\n",
    "\n",
    "so we dont wanr to define what type of a is "
   ]
  },
  {
   "cell_type": "code",
   "execution_count": 41,
   "id": "a40920f7-527e-471e-8d9b-db33deb224d8",
   "metadata": {},
   "outputs": [],
   "source": [
    "a = 12"
   ]
  },
  {
   "cell_type": "code",
   "execution_count": 42,
   "id": "c8f9057e-126c-4f0c-9a85-464e4fb38ce6",
   "metadata": {},
   "outputs": [],
   "source": [
    "a = 'var'"
   ]
  },
  {
   "cell_type": "code",
   "execution_count": 43,
   "id": "13898b49-6c33-4a34-8657-82f869c2fe5d",
   "metadata": {},
   "outputs": [
    {
     "data": {
      "text/plain": [
       "'var'"
      ]
     },
     "execution_count": 43,
     "metadata": {},
     "output_type": "execute_result"
    }
   ],
   "source": [
    "a"
   ]
  },
  {
   "cell_type": "code",
   "execution_count": 44,
   "id": "094a1d79-d7cb-4f79-8e5b-394fe0236ece",
   "metadata": {},
   "outputs": [
    {
     "ename": "ValueError",
     "evalue": "invalid literal for int() with base 10: 'abcd'",
     "output_type": "error",
     "traceback": [
      "\u001b[0;31m---------------------------------------------------------------------------\u001b[0m",
      "\u001b[0;31mValueError\u001b[0m                                Traceback (most recent call last)",
      "Cell \u001b[0;32mIn [44], line 1\u001b[0m\n\u001b[0;32m----> 1\u001b[0m \u001b[38;5;28;43mint\u001b[39;49m\u001b[43m(\u001b[49m\u001b[38;5;124;43m'\u001b[39;49m\u001b[38;5;124;43mabcd\u001b[39;49m\u001b[38;5;124;43m'\u001b[39;49m\u001b[43m)\u001b[49m\n",
      "\u001b[0;31mValueError\u001b[0m: invalid literal for int() with base 10: 'abcd'"
     ]
    }
   ],
   "source": [
    "int('abcd')"
   ]
  },
  {
   "cell_type": "code",
   "execution_count": 45,
   "id": "a157893d-a7c5-45dc-8cc3-ece01cccf474",
   "metadata": {},
   "outputs": [
    {
     "data": {
      "text/plain": [
       "1"
      ]
     },
     "execution_count": 45,
     "metadata": {},
     "output_type": "execute_result"
    }
   ],
   "source": [
    "int(1.5)"
   ]
  },
  {
   "cell_type": "code",
   "execution_count": 46,
   "id": "ff590c95-be22-4807-b68f-38bf40f3275c",
   "metadata": {},
   "outputs": [
    {
     "data": {
      "text/plain": [
       "1.0"
      ]
     },
     "execution_count": 46,
     "metadata": {},
     "output_type": "execute_result"
    }
   ],
   "source": [
    "float(1)"
   ]
  },
  {
   "cell_type": "code",
   "execution_count": 47,
   "id": "dc27bf5f-933b-4fb1-b5d0-a432f676a1a0",
   "metadata": {},
   "outputs": [],
   "source": [
    "#concatination b/w types"
   ]
  },
  {
   "cell_type": "code",
   "execution_count": 48,
   "id": "364abeea-f79d-4bc6-ba0b-962533d8fde6",
   "metadata": {},
   "outputs": [
    {
     "data": {
      "text/plain": [
       "'11'"
      ]
     },
     "execution_count": 48,
     "metadata": {},
     "output_type": "execute_result"
    }
   ],
   "source": [
    "'1' + '1'"
   ]
  },
  {
   "cell_type": "code",
   "execution_count": 49,
   "id": "a993e4b2-666d-4278-b9b1-45532378b6f8",
   "metadata": {},
   "outputs": [
    {
     "ename": "TypeError",
     "evalue": "unsupported operand type(s) for +: 'int' and 'str'",
     "output_type": "error",
     "traceback": [
      "\u001b[0;31m---------------------------------------------------------------------------\u001b[0m",
      "\u001b[0;31mTypeError\u001b[0m                                 Traceback (most recent call last)",
      "Cell \u001b[0;32mIn [49], line 1\u001b[0m\n\u001b[0;32m----> 1\u001b[0m \u001b[38;5;28;43mint\u001b[39;49m\u001b[43m(\u001b[49m\u001b[38;5;124;43m'\u001b[39;49m\u001b[38;5;124;43m1\u001b[39;49m\u001b[38;5;124;43m'\u001b[39;49m\u001b[43m)\u001b[49m\u001b[43m \u001b[49m\u001b[38;5;241;43m+\u001b[39;49m\u001b[43m \u001b[49m\u001b[38;5;124;43m'\u001b[39;49m\u001b[38;5;124;43m1\u001b[39;49m\u001b[38;5;124;43m'\u001b[39;49m\n",
      "\u001b[0;31mTypeError\u001b[0m: unsupported operand type(s) for +: 'int' and 'str'"
     ]
    }
   ],
   "source": [
    "int('1') + '1'"
   ]
  },
  {
   "cell_type": "code",
   "execution_count": 51,
   "id": "232b6aef-ac8b-4600-8477-f339ac5afbea",
   "metadata": {},
   "outputs": [
    {
     "data": {
      "text/plain": [
       "'1 1 1 1 1 1 1 1 1 1 1 1 1 1 1 1 1 1 1 1 1 1 1 1 1 1 1 1 1 1 1 1 1 1 1 1 1 1 1 1 1 1 1 1 1 1 1 1 1 1 1 1 1 1 1 1 1 1 1 1 1 1 1 1 1 1 1 1 1 1 1 1 1 1 1 1 1 1 1 1 1 1 1 1 1 1 1 1 1 1 1 1 1 1 1 1 1 1 1 1 '"
      ]
     },
     "execution_count": 51,
     "metadata": {},
     "output_type": "execute_result"
    }
   ],
   "source": [
    "'1 ' * 100"
   ]
  },
  {
   "cell_type": "code",
   "execution_count": null,
   "id": "85a1cb26-fb88-4799-b617-ab493f4f945a",
   "metadata": {},
   "outputs": [],
   "source": []
  }
 ],
 "metadata": {
  "kernelspec": {
   "display_name": "Python 3 (ipykernel)",
   "language": "python",
   "name": "python3"
  },
  "language_info": {
   "codemirror_mode": {
    "name": "ipython",
    "version": 3
   },
   "file_extension": ".py",
   "mimetype": "text/x-python",
   "name": "python",
   "nbconvert_exporter": "python",
   "pygments_lexer": "ipython3",
   "version": "3.10.6"
  }
 },
 "nbformat": 4,
 "nbformat_minor": 5
}
